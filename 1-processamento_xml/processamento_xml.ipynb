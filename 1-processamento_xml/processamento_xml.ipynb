{
 "cells": [
  {
   "cell_type": "code",
   "execution_count": 1,
   "id": "8429aaf1",
   "metadata": {},
   "outputs": [],
   "source": [
    "import numpy as np\n",
    "from xml import dom, sax\n",
    "import xml.etree.ElementTree as ET"
   ]
  },
  {
   "cell_type": "code",
   "execution_count": 2,
   "id": "fdac7b2b",
   "metadata": {},
   "outputs": [],
   "source": [
    "file = \"data/cf79.xml\""
   ]
  },
  {
   "cell_type": "markdown",
   "id": "9d1db051",
   "metadata": {},
   "source": [
    "# DOM"
   ]
  },
  {
   "cell_type": "code",
   "execution_count": 3,
   "id": "4ce40138",
   "metadata": {},
   "outputs": [],
   "source": [
    "# extracting all AUTHOR from file\n",
    "doc = dom.minidom.parse(file)\n",
    "\n",
    "all_author = doc.getElementsByTagName(\"AUTHOR\")\n",
    "all_author_list = []\n",
    "\n",
    "for author in all_author:\n",
    "    all_author_list.append(author.firstChild.data)\n",
    "\n",
    "# removing duplicates\n",
    "unique_author = np.unique(all_author_list)"
   ]
  },
  {
   "cell_type": "code",
   "execution_count": 4,
   "id": "b4d6286f",
   "metadata": {},
   "outputs": [],
   "source": [
    "# creating output dom\n",
    "doc = dom.minidom.Document()\n",
    " \n",
    "root = doc.createElement(\"AUTHORS\")\n",
    "doc.appendChild(root)\n",
    "\n",
    "for value in all_author_list:\n",
    "    tempChild = doc.createElement(\"AUTHOR\")\n",
    "    root.appendChild(tempChild)\n",
    "\n",
    "    # Write Text\n",
    "    nodeText = doc.createTextNode(value)\n",
    "    tempChild.appendChild(nodeText)\n",
    "\n",
    "# saving autores.xml file\n",
    "with open('autores.xml', 'w') as f:\n",
    "    doc.writexml( \n",
    "        f,\n",
    "        indent=\"\",\n",
    "        addindent=\"   \",\n",
    "        newl='\\n'\n",
    "    )"
   ]
  },
  {
   "cell_type": "markdown",
   "id": "fbedbe5e",
   "metadata": {},
   "source": [
    "# SAX"
   ]
  },
  {
   "cell_type": "code",
   "execution_count": 5,
   "id": "b3480dc4",
   "metadata": {},
   "outputs": [],
   "source": [
    "# creating handler to extract title\n",
    "class TitleHandler(sax.handler.ContentHandler):\n",
    "    def __init__(self):\n",
    "        # all titles from file\n",
    "        self.titles = []\n",
    "        \n",
    "        # aux variables stating if current tag is title and associated texts (if multiple lines)\n",
    "        self.isTitle = False\n",
    "        self.currentTitle = None\n",
    "    \n",
    "    def startElement(self, name, attrs):\n",
    "        if name == 'TITLE':\n",
    "            self.isTitle = True\n",
    "            self.currentTitle = []\n",
    "\n",
    "    def endElement(self, name):\n",
    "        if name == \"TITLE\":\n",
    "            self.isTitle = False\n",
    "            self.titles.append(\" \".join(self.currentTitle))\n",
    "            self.currentTitle = None\n",
    "\n",
    "    def characters(self, content):\n",
    "        if self.isTitle and (content.strip() != \"\"):\n",
    "            self.currentTitle.append(content)"
   ]
  },
  {
   "cell_type": "code",
   "execution_count": 6,
   "id": "65a4ec8b",
   "metadata": {},
   "outputs": [],
   "source": [
    "handler = TitleHandler()\n",
    "sax.parse(file, handler)"
   ]
  },
  {
   "cell_type": "code",
   "execution_count": 7,
   "id": "8164400b",
   "metadata": {},
   "outputs": [],
   "source": [
    "output = '<?xml version=\"1.0\" ?>\\n'\n",
    "output += \"<FILE>\\n\"\n",
    "output += \"\\n\".join([f\"   <TITLE>{i}</TITLE>\" for i in handler.titles])\n",
    "output += \"\\n</FILE>\"\n",
    "\n",
    "with open('titulos.xml', 'w') as f:\n",
    "    f.write(output)"
   ]
  },
  {
   "cell_type": "code",
   "execution_count": null,
   "id": "3742f49b",
   "metadata": {},
   "outputs": [],
   "source": []
  }
 ],
 "metadata": {
  "kernelspec": {
   "display_name": "Python 3 (ipykernel)",
   "language": "python",
   "name": "python3"
  },
  "language_info": {
   "codemirror_mode": {
    "name": "ipython",
    "version": 3
   },
   "file_extension": ".py",
   "mimetype": "text/x-python",
   "name": "python",
   "nbconvert_exporter": "python",
   "pygments_lexer": "ipython3",
   "version": "3.10.4"
  },
  "toc": {
   "base_numbering": 1,
   "nav_menu": {},
   "number_sections": true,
   "sideBar": true,
   "skip_h1_title": false,
   "title_cell": "Table of Contents",
   "title_sidebar": "Contents",
   "toc_cell": false,
   "toc_position": {},
   "toc_section_display": true,
   "toc_window_display": false
  }
 },
 "nbformat": 4,
 "nbformat_minor": 5
}
